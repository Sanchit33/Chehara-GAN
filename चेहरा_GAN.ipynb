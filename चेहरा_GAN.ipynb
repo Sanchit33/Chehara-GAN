{
  "nbformat": 4,
  "nbformat_minor": 0,
  "metadata": {
    "colab": {
      "name": "चेहरा-GAN.ipynb",
      "provenance": [],
      "authorship_tag": "ABX9TyPqWrQwY2WUZcvwkdQTGBxB",
      "include_colab_link": true
    },
    "kernelspec": {
      "name": "python3",
      "display_name": "Python 3"
    },
    "language_info": {
      "name": "python"
    },
    "gpuClass": "standard",
    "accelerator": "GPU"
  },
  "cells": [
    {
      "cell_type": "markdown",
      "metadata": {
        "id": "view-in-github",
        "colab_type": "text"
      },
      "source": [
        "<a href=\"https://colab.research.google.com/github/vijishmadhavan/Chehara-GAN/blob/master/%E0%A4%9A%E0%A5%87%E0%A4%B9%E0%A4%B0%E0%A4%BE_GAN.ipynb\" target=\"_parent\"><img src=\"https://colab.research.google.com/assets/colab-badge.svg\" alt=\"Open In Colab\"/></a>"
      ]
    },
    {
      "cell_type": "markdown",
      "source": [
        "#**चेहरा-GAN**"
      ],
      "metadata": {
        "id": "a4Mtdno1_kRj"
      }
    },
    {
      "cell_type": "code",
      "source": [
        "#@title Install requirements\n",
        "%%capture\n",
        "\n",
        "!git clone https://github.com/vijishmadhavan/Chehara-GAN.git Chehara-GAN\n",
        "%cd Chehara-GAN\n",
        "!pip install -r requirements.txt"
      ],
      "metadata": {
        "cellView": "form",
        "id": "J38JjypR_i8a"
      },
      "execution_count": null,
      "outputs": []
    },
    {
      "cell_type": "code",
      "source": [
        "#@title Run only once!\n",
        "\n",
        "from fastai.vision import *\n",
        "from fastai.callbacks import *\n",
        "from fastai.vision.gan import *\n",
        "from fastai.utils.mem import *\n",
        "import dlib\n",
        "import os\n",
        "import cv2\n",
        "import numpy as np \n",
        "from skimage import transform as trans\n",
        "import urllib.request\n",
        "\n",
        "\n",
        "\n",
        "\n",
        "def get_points(img, detector, shape_predictor, size_threshold=999):\n",
        "    dets = detector(img, 1)\n",
        "    if len(dets) == 0:\n",
        "        return None\n",
        "    \n",
        "    all_points = []\n",
        "    for det in dets:\n",
        "        if isinstance(detector, dlib.cnn_face_detection_model_v1):\n",
        "            rec = det.rect # for cnn detector\n",
        "        else:\n",
        "            rec = det\n",
        "        if rec.width() > size_threshold or rec.height() > size_threshold: \n",
        "            break\n",
        "        shape = shape_predictor(img, rec) \n",
        "        single_points = []\n",
        "        for i in range(5):\n",
        "            single_points.append([shape.part(i).x, shape.part(i).y])\n",
        "        all_points.append(np.array(single_points))\n",
        "    if len(all_points) <= 0:\n",
        "        return None\n",
        "    else:\n",
        "        return all_points\n",
        "\n",
        "def align_and_save(img, save_path, src_points, template_path, template_scale=1):\n",
        "    out_size = (512, 512)\n",
        "    reference = np.load(template_path) / template_scale\n",
        "\n",
        "    ext = os.path.splitext(save_path)\n",
        "    for idx, spoint in enumerate(src_points):\n",
        "        tform = trans.SimilarityTransform()\n",
        "        tform.estimate(spoint, reference)\n",
        "        M = tform.params[0:2,:]\n",
        "\n",
        "        crop_img = cv2.warpAffine(img, M, out_size)\n",
        "        if len(src_points) > 1:\n",
        "            save_path = ext[0] + '_{}'.format(idx) + ext[1]\n",
        "        dlib.save_image(crop_img.astype(np.uint8), save_path)\n",
        "        print('Saving image', save_path)\n",
        "\n",
        "def align_and_save_dir(src_dir, save_dir, template_path='/content/Chehara-GAN/pretrain_models/FFHQ_template.npy', template_scale=2, use_cnn_detector=True):\n",
        "    out_size = (512, 512)    \n",
        "    if use_cnn_detector:\n",
        "        detector = dlib.cnn_face_detection_model_v1('/content/Chehara-GAN/pretrain_models/mmod_human_face_detector.dat')\n",
        "    else:\n",
        "        detector = dlib.get_frontal_face_detector()\n",
        "    sp = dlib.shape_predictor('/content/Chehara-GAN/pretrain_models/shape_predictor_5_face_landmarks.dat')\n",
        "\n",
        "    for name in os.listdir(src_dir):\n",
        "        img_path = os.path.join(src_dir, name)\n",
        "        img = dlib.load_rgb_image(img_path)\n",
        "\n",
        "        points = get_points(img, detector, sp)\n",
        "        if points is not None:\n",
        "            save_path = os.path.join(save_dir, name)\n",
        "            align_and_save(img, save_path, points, template_path, template_scale)\n",
        "        else:\n",
        "            print('No face detected in', img_path)\n",
        "\n",
        "class FeatureLoss(nn.Module):\n",
        "    def __init__(self, m_feat, layer_ids, layer_wgts):\n",
        "        super().__init__()\n",
        "        self.m_feat = m_feat\n",
        "        self.loss_features = [self.m_feat[i] for i in layer_ids]\n",
        "        self.hooks = hook_outputs(self.loss_features, detach=False)\n",
        "        self.wgts = layer_wgts\n",
        "        self.metric_names = ['pixel',] + [f'feat_{i}' for i in range(len(layer_ids))\n",
        "              ] + [f'gram_{i}' for i in range(len(layer_ids))]\n",
        "\n",
        "    def make_features(self, x, clone=False):\n",
        "        self.m_feat(x)\n",
        "        return [(o.clone() if clone else o) for o in self.hooks.stored]\n",
        "    \n",
        "    def forward(self, input, target):\n",
        "        out_feat = self.make_features(target, clone=True)\n",
        "        in_feat = self.make_features(input)\n",
        "        self.feat_losses = [base_loss(input,target)]\n",
        "        self.feat_losses += [base_loss(f_in, f_out)*w\n",
        "                             for f_in, f_out, w in zip(in_feat, out_feat, self.wgts)]\n",
        "        self.feat_losses += [base_loss(gram_matrix(f_in), gram_matrix(f_out))*w**2 * 5e3\n",
        "                             for f_in, f_out, w in zip(in_feat, out_feat, self.wgts)]\n",
        "        self.metrics = dict(zip(self.metric_names, self.feat_losses))\n",
        "        return sum(self.feat_losses)\n",
        "    \n",
        "    def __del__(self): self.hooks.remove()\n",
        "\n",
        "\n",
        "MODEL_URL = \"https://www.dropbox.com/s/iiqvfu58as8unz1/p6500.pkl?dl=1\"\n",
        "urllib.request.urlretrieve(MODEL_URL, \"p6500.pkl\")\n",
        "path = Path(\".\")\n",
        "learn=load_learner(path, 'p6500.pkl')\n",
        "\n",
        "\n",
        "#align_and_save_dir(\"/content/Chehara-GAN/input\", \"/content/Chehara-GAN/cropped\", template_path='/content/Chehara-GAN/pretrain_models/FFHQ_template.npy', template_scale=2, use_cnn_detector=False)\n",
        "\n"
      ],
      "metadata": {
        "id": "NQSqT11Oc_AQ",
        "cellView": "form"
      },
      "execution_count": null,
      "outputs": []
    },
    {
      "cell_type": "markdown",
      "source": [
        "Put images inside input folder and run the below Main-code,find enhanced images inside output folder.\n",
        "\n",
        "Note: Might not work great with all images and poses."
      ],
      "metadata": {
        "id": "7p2SMOYB9hgS"
      }
    },
    {
      "cell_type": "markdown",
      "source": [
        "# Main-code"
      ],
      "metadata": {
        "id": "7PhuIgoowfqm"
      }
    },
    {
      "cell_type": "code",
      "source": [
        "rm -rf `find -type d -name .ipynb_checkpoints`\n"
      ],
      "metadata": {
        "id": "jJ3b5DrBzSgL"
      },
      "execution_count": null,
      "outputs": []
    },
    {
      "cell_type": "code",
      "source": [
        "#@title\n",
        "\n",
        "align_and_save_dir(\"/content/Chehara-GAN/input\", \"/content/Chehara-GAN/cropped\", template_path='/content/Chehara-GAN/pretrain_models/FFHQ_template.npy', template_scale=2, use_cnn_detector=False)\n",
        "\n",
        "f = '/content/Chehara-GAN/cropped/'\n",
        "from PIL import Image\n",
        "\n",
        "for images in os.listdir(f):\n",
        "  img_path = os.path.join(f, images)\n",
        "  img_fast = open_image(img_path)\n",
        "  p,img_hr,b = learn.predict(img_fast)\n",
        "  x = np.minimum(np.maximum(image2np(img_hr.data*255), 0), 255).astype(np.uint8)\n",
        "  PIL_image = Image.fromarray(np.uint8(x)).convert('RGB')\n",
        "  size = img_fast.size\n",
        "  im1 = PIL_image.resize(size)\n",
        "  im1.save('/content/Chehara-GAN/output/' + str(images), 'JPEG')\n",
        "\n"
      ],
      "metadata": {
        "id": "SLgWwW0qc_C3",
        "cellView": "form",
        "colab": {
          "base_uri": "https://localhost:8080/"
        },
        "outputId": "4be467e0-5a8b-4d4d-ac32-21bc12efe391"
      },
      "execution_count": null,
      "outputs": [
        {
          "output_type": "stream",
          "name": "stdout",
          "text": [
            "Saving image /content/Chehara-GAN/cropped/1_0.jpg\n",
            "Saving image /content/Chehara-GAN/cropped/1_1.jpg\n",
            "Saving image /content/Chehara-GAN/cropped/1_2.jpg\n",
            "Saving image /content/Chehara-GAN/cropped/1_3.jpg\n",
            "Saving image /content/Chehara-GAN/cropped/1_4.jpg\n",
            "Saving image /content/Chehara-GAN/cropped/1_5.jpg\n",
            "Saving image /content/Chehara-GAN/cropped/1_6.jpg\n",
            "Saving image /content/Chehara-GAN/cropped/1_7.jpg\n",
            "Saving image /content/Chehara-GAN/cropped/1_8.jpg\n",
            "Saving image /content/Chehara-GAN/cropped/1_9.jpg\n",
            "Saving image /content/Chehara-GAN/cropped/1_10.jpg\n"
          ]
        }
      ]
    }
  ]
}